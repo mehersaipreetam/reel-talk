{
 "cells": [
  {
   "cell_type": "code",
   "execution_count": 1,
   "metadata": {},
   "outputs": [],
   "source": [
    "from src.rag.vanilla_rag import VanillaRAG"
   ]
  },
  {
   "cell_type": "code",
   "execution_count": 2,
   "metadata": {},
   "outputs": [],
   "source": [
    "import chromadb\n",
    "\n",
    "client = chromadb.PersistentClient(path=\"../data/chroma_langchain_db\")\n",
    "chroma_collection = client.get_or_create_collection(name=\"how_i_met_your_mother\")"
   ]
  },
  {
   "cell_type": "code",
   "execution_count": 3,
   "metadata": {},
   "outputs": [],
   "source": [
    "query = \"How many slaps were part of slapsgiving bet?\"\n",
    "\n",
    "vanilla_rag = VanillaRAG()\n",
    "retrieved_documents = vanilla_rag.vanilla_rag(query=query, chroma_collection=chroma_collection, n_results=10)"
   ]
  },
  {
   "cell_type": "code",
   "execution_count": 4,
   "metadata": {},
   "outputs": [],
   "source": [
    "from prompts import VanillaRAGPrompt\n",
    "\n",
    "prompt = VanillaRAGPrompt.format(query=query, retrieved_documents=retrieved_documents)"
   ]
  },
  {
   "cell_type": "code",
   "execution_count": 5,
   "metadata": {},
   "outputs": [
    {
     "name": "stderr",
     "output_type": "stream",
     "text": [
      "2024-10-16 23:33:49,257 - ReelTalk - INFO - [get_llm:34] - LLM created: client=<groq.resources.chat.completions.Completions object at 0x7fafe1d185f0> async_client=<groq.resources.chat.completions.AsyncCompletions object at 0x7fafe1d19160> model_name='llama3-70b-8192' temperature=1e-08 model_kwargs={} groq_api_key=SecretStr('**********')\n",
      "2024-10-16 23:33:49,260 - ReelTalk - INFO - [invoke_llm:51] - Invoking LLM with prompt: \n",
      "You are a Retrieval-Augmented Generation (RAG) agent. Your task is to answer the given question using ONLY the information from the provided documents and metadata.\n",
      "\n",
      "Input:\n",
      "\n",
      "retrieved_documents: A list of tuples, where each tuple contains a document and its associated metadata.\n",
      "Retrieved Documents: (({'episode': 31, 'start_index': 7502, 'title': 'Slap Bet'}, '. \"What a great idea - the slap bet and Slap Bet Commissioner! ... And Robin\\'s secret revealed ... who\\'d have guessed that?\" ↑ Slap Bet at the Internet Movie Database ↑ http://www.televisionwithoutpity.com/show/how_i_met_your_mother/slap_bet.php ↑ http://tv.ign.com/articles/783/783100p1.html ↑ http://www.tvguide.com/News/HIMYM-Robin-Sparkles-1025649.aspx Slap Bet at the English Wikipedia Slap Bet at the Internet Movie Database Slap Bet at TV.com'), ({'episode': 53, 'start_index': 3921, 'title': 'Slapsgiving'}, '. Marshall emails the slap countdown website to Barney in Wait For It . The \"major pay raise\" after the first year that Marshall mentions is from the new job in I\\'m Not That Guy . Barney performs a \" relapse five .\" Ted\\'s recklessness culminates in No Tomorrow . Ted and Robin sleeping together over Thanksgiving is referenced again in Rebound Bro and Shelter Island . Ted and Robin are seen doing their running joke again in Benefits , The Wedding Bride , Platonish , and Last Forever - Part One . Marshall\\'s Slapsgiving song, \"You Just Got Slapped\", appears again in Slapsgiving 2: Revenge of the Slap , in the commercial for Lily\\'s father \\'s \"Slap Bet\" board game, and in Slapsgiving 3: Slappointment in Slapmarra , performed by Boyz II Men . Lily displays her dislike of people outside the gang appearing in photos of major occasions again in Say Cheese , where Robin, despite not appearing very understanding of it here, agrees with her. Barney is seen miscalculating the number of days in a month again in Last Forever - Part Two , when he attempts to perform a \"Perfect Month.\" Marshall plays the apartment\\'s piano, one of the few times the instrument is used. Other examples include Marshall in Hopeless and Ted in Tailgate . Memorable Quotes [ ] Notes and Trivia [ ] Goofs and Errors [ ] In the flashbacks of the first two slaps delivered by Marshall the first slap shown in the flashback is the slap before Marshall won the slap bet. The DVD release shows the real first slap. When Marshall shows that they are in the final hour of the countdown there are actually 2 hours and 40 minutes left. In the DVD release it\\'s correct. While giving the rules for the Slap Bet, Marshall says you can\\'t wear rings when you slap, but when he slaps Barney, he is wearing his wedding ring on his left hand, the hand he slapped Barney with. Marshall says the slap will occur at 3:01 in the afternoon; but when the countdown ends and Barney gets slapped it is night time outside the apartment. Green Day did not perform any concerts in the fall of 2007'), ({'episode': 198, 'start_index': 5218, 'title': 'Slapsgiving 3: Slappointment in Slapmarra'}, 'In the end scene, Marshall announces to the audience Boyz II Men, who sing \" You Just Got Slapped \". Marshall then walks up to Barney, ominously reminding him that there is one slap remaining in the slap bet, wiping Barney\\'s smile from his face. Continuity [ ] The episode concludes the \"Slapsgiving trilogy.\" The other parts being Slapsgiving and Slapsgiving 2: Revenge of the Slap . In order for Marshall to master the art of strength, he has to let himself be slapped by a bunch of gullible girls Barney had sex with. These include Crazy Meg , Shannon , Shelly , Karina , Mrs. Douglas (from The Window ) and Nora . You can see a short moment in this episode which marks the continuity from Bass Player Wanted , which had \"To be continued\" title at the end. Boyz II Men sing \" You Just Got Slapped \", which was first sung by Marshall in Slapsgiving . The slap will be visible on Barney\\'s cheek in Unpause . Marshall says \\'One More\\' referencing the fact that there is one more slap remaining in the slap bet. He delivers this in The End of the Aisle .      The Schooling of the Calligrapher Memorable Quotes [ ] Notes and Trivia [ ] Goofs and Errors [ ] When Marshall slaps Barney, he says \"That\\'s four!\" In the context of the The Eight Slaps , it should have been \"That\\'s seven!\" If the slap was part of the three extra slaps given in Disaster Averted and counted separately from the initial five slaps, he would have said \"That\\'s three\"; if it was part of the original five slaps, it should have been \"That\\'s five.\" Saying \"four\" doesn\\'t fit into any of the scenarios. This line has been edited out in the international versions of the episode that have aired after the US air date as well as the DVD release. This line has been edited out in the international versions of the episode that have aired after the US air date as well as the DVD release. When Marshall goes out to get slaps from \"gullible chicks Barney banged\" they establish a pattern of Marshall introducing himself as a friend of Barney which prompts the women to slap him'), ({'episode': 31, 'start_index': 0, 'title': 'Slap Bet'}, \"If you are looking for the bet featuring in this episode, see The Eight Slaps. Images (4) Ted tries to uncover a secret about Robin's past. Barney and Marshall have a slap bet riding on the outcome and Lily serves as the Slap Bet Commissioner.  Contents 1 Recap 2 Continuity 3 Future References (Contains Spoilers) 4 Gallery 5 Memorable Quotes 6 Notes and Trivia 6.1 Goofs and Errors 6.2 Allusions and Outside References 6.3 Music 6.4 Other Notes 6.1 Goofs and Errors 6.2 Allusions and Outside References 6.3 Music 6.4 Other Notes 7 Guests 8 Reception 9 References 10 External Links Recap [ ] You can contribute to the How I Met Your Mother Wiki by rewriting the copied content. Ted , Marshall , Lily , and Barney find out that Robin does not want to go to Willowbrook Mall , or any mall, and refuses to say why. When the gang discuss it later, Marshall suggests that Robin was married in a mall in Canada, while Barney believes that Robin did porn. They agree to a Slap Bet (where the winner of the bet slaps the loser as hard as he possibly can) and appoint Lily the Slap Bet Commissioner. Ted thinks both ideas are ridiculous, but tries to find out if she had gotten married at a mall. Robin admits that Marshall is correct. Ted promises to keep it a secret, but tells Marshall and Lily. Marshall slaps Barney, but Barney still investigates the subject. Marshall tells Ted that a database search at Columbia University proves that Robin was never married. Robin admits that she lied to get him to stop asking her about it. As the Commissioner, Lily allows Barney to slap Marshall three times. Startling Robin, Barney reveals that a man in Malaysia has found a video with\"), ({'episode': 97, 'start_index': 3950, 'title': 'Slapsgiving 2: Revenge of the Slap'}, '. The song Marshall created for Slapsgiving, \" You Just Got Slapped \", in Slapsgiving , is used for the \"Slap Bet\" board game commercial. Lily says \" You sonuvabitch \" in the same manner as she and Barney did in the The Playbook . This episode marks the first appearance of Mickey . In Disaster Averted , Barney agrees to give Marshall three more slaps, and Marshall uses two of them immediately, leaving himself with two more. Marshall slaps Barney again, exclaiming \"That\\'s four!\", in Slapsgiving 3: Slappointment in Slapmarra . Marshall slaps Barney for the last time in The End of the Aisle . Marshall slaps Barney again, exclaiming \"That\\'s four!\", in Slapsgiving 3: Slappointment in Slapmarra . Marshall slaps Barney for the last time in The End of the Aisle . Lily and Marshall\\'s respective \" you\\'re dead to me \" looks are referenced again in Say Cheese . Marshall kisses the Thanksgiving turkey Lily\\'s Dad arrives unannounced The \"You\\'re Dead to Me\" look Marshall uses his fourth slap Aldrin Games\\' only successful game Aldrin Games\\' newest game Ted and Robin have to decide who gets to slap Barney. Barney talking smack before getting slapped. To slap or not to slap? Does Lily (the slap bet commissioner) get to slap Barney? Memorable Quotes [ ] Notes and Trivia [ ] Goofs and Errors [ ] Mickey claims that he wasn\\'t even invited to the wedding. At the time, he was already \\'dead to her\\'. But in Something Borrowed she explains that she had to have the harp player at the wedding because Lily\\'s father owed her a favor. It\\'s possible something happened between Mickey and the harp player before Lily decided that Mickey was dead to her. Mickey made the promise to the harp player that to make it up to her when he daughter got married she could perform and Lily still felt obligated to honor the commitment. It\\'s possible something happened between Mickey and the harp player before Lily decided that Mickey was dead to her'), ({'episode': 198, 'start_index': 16418, 'title': 'Slapsgiving 3: Slappointment in Slapmarra'}, '. The Calligrapher references Ted\\'s well-documented love of calligraphy. According to a 15-second behind the scenes footage of the slaps (taken by prop assistant Chris Kurumada) that Marshall took from Barney\\'s previous girlfriends, Jason Segel actually took every single slap that they gave him. Segel claimed that the hardest slap was from Eva Amurri , and that he took the nutshot from Nazanin Boniadi \"like a champ.\" Guests [ ] Nathan Morris - Himself Wanya Morris - Himself Shawn Stockman - Himself Stacy Keibler - Karina Nazanin Boniadi - Nora April Bowlby - Crazy Meg Katie Walder - Shannon Eva Amurri Martino - Shelly Joe Nieves - Carl Robert Belushi - Linus Barbara Perry - Mrs. Douglas Ping Wu - Old Man Juanita Guzman - Quilter #1 Adam Wang - Kung Fu Instructor Dat Pham - Chinese Boy Reception [ ] The episode was viewed by 8.59 million people.  Donna Bowman on the A.V. Club gave this episode an A-.  Max Nicholson of IGN gave the episode a 6.5 out of 10.  Angel Cohn of Television Without Pity gave the episode a C.  This episode received some backlash, and was accused of encouraging Asian stereotypes. The hashtag #HowIMetYourRacism began to trend on Twitter. The creators later apologized to the racist claims.  The St. Petersburg Comic Review gave this episode 6.5 out of 10 stars. \"...finally, another slap!\" ↑ http://tvbythenumbers.zap2it.com/2014/01/14/monday-final-tv-ratings-intelligence-mom-the-bachelor-adjusted-up/229138/ ↑ http://www.avclub.com/review/slapsgiving-3-slappointment-106689 ↑ http://www.ign.com/articles/2014/01/14/how-i-met-your-mother-slapsgiving-3-slappointment-in-slapmarra-review ↑ http://www.televisionwithoutpity.com/show/how-i-met-your-mother/slapsgiving-no-3-slappointment-in-slapmarra/ ↑ http://www.huffingtonpost.com/2014/01/15/how-i-met-your-mother-racism_n_4604517.html/'), ({'episode': 154, 'start_index': 1950, 'title': 'Karma'}, \". Since Robin had moved out, Ted has attempted to take his mind off her by using her empty room for various hobbies such as grilling meats, woodworking, and pottery. Robin goes to meet Ted later, and helps him realize that some things shouldn't be forced and that one should instead just move on. A few days later, Lily and Marshall receive a message from Ted to come hang out in the city, and the two eagerly rush off. When arriving at The apartment , they find the place completely empty. A note from Ted explains he has decided to move out for good and he needs a change. Because Marshall’s name is still on the lease, he is giving the apartment to them and has put up a crib in Robin's old room, suggesting they use it for their baby. Continuity [ ] In the start of the episode, Future Ted summarizes the events of The Drunk Train and No Pressure . In the room Robin stays in, a stack of Mickey Aldrin 's games can be seen, with Slap Bet on the top. Mickey's Slap Bet game was first introduced in Slapsgiving 2: Revenge of the Slap . Barney puts money in his mouth like he told Ted to do in an earlier episode\"), ({'episode': 142, 'start_index': 3935, 'title': 'Mystery vs. History'}, '. Now the ideals are reversed. Ted imagines a woman he is interested in being a man in Slap Bet and Spoiler Alert . When Kevin notes that the only unhealthy behavior he has not seen the gang demonstrate is physical violence, they recall several such instances, including: Robin at the shooting range in Where Were We?  Lily throwing a drink in Barney\\'s face in The Scorpion and the Toad . All four Slap Bet slaps . Ted punching Barney in the groin in The Goat . Ted hitting Marshall with a baseball bat, as seen in The Best Burger in New York . Marshall hitting Lily with the fridge door, as seen in Zoo or False . Barney kneeing Ted in the crotch in Last Words . Lily slapping Barney in A Change of Heart . Robin at the shooting range in Where Were We?  Lily throwing a drink in Barney\\'s face in The Scorpion and the Toad . All four Slap Bet slaps . Ted punching Barney in the groin in The Goat . Ted hitting Marshall with a baseball bat, as seen in The Best Burger in New York . Marshall hitting Lily with the fridge door, as seen in Zoo or False . Barney kneeing Ted in the crotch in Last Words . Lily slapping Barney in A Change of Heart . Ted mentions his parents\\' divorce, which he first found out about in Brunch . Robin mentions her father attempting to raise her as a boy, which she tells the gang about in Happily Ever After . Future Ted reveals that Lily and Marshall would have a son in Last Cigarette Ever . As Future Ted describes how the Internet was taking the mystery out of dating, several people\\'s social networking pages are shown, including Chester R, who has a picture with the caption \"Boats Boats Boats!\", referencing Robin\\'s former co-host Becky , and her commercial from Canning Randy . \"Mystery Vs History: Is It Better Not to Know?\" is the title of one of the New York magazine articles in the edition which featured a cover story about Ted, as seen in The Best Man  and The Naked Truth . Robin started dating Kevin in Field Trip . Unpause explains how Robin\\'s father has a helicopter'), ({'episode': 198, 'start_index': 1, 'title': 'Slapsgiving 3: Slappointment in Slapmarra'}, 'Images (5) In an attempt to deliver a devastating penultimate slap to Barney, Marshall explains how he mastered the Slap of A Million Exploding Suns.  Contents 1 Recap 2 Continuity 3 Future References (Contains Spoilers) 4 Gallery 5 Memorable Quotes 6 Notes and Trivia 6.1 Goofs and Errors 6.2 Allusions and Outside References 6.3 Music 6.4 Other Notes: 6.1 Goofs and Errors 6.2 Allusions and Outside References 6.3 Music 6.4 Other Notes: 7 Guests 8 Reception 9 References 10 External Links Recap [ ] On Sunday at 1:00 AM, 17 hours before the wedding , picking up immediately where the previous episode left off, Marshall is about to slap an impassive-faced Barney (seen in a slow-motion fashion) when Future Ted says that there is a particular back-story to this slap. The episode then flashes back to a few weeks earlier with the gang at MacLaren\\'s . After spilling mustard on his suit, Barney begins mocking Marshall by saying that his suit was a slap in the face to all suits everywhere. Remembering the Slap Bet , Marshall tells Barney that he wants the next slap from the Slap Bet to be as painful as humanly possible, to which Barney then counters that, due to all the pain and suffering Marshall has inflicted upon him over the years, he is now immune to all of Marshall\\'s torments. Marshall then proceeds to tell Barney (who keeps interrupting to point out the obvious inconsistencies in the story) that he went to seek \"special training\" for the next slap. First, he went to a martial arts learning center to ask the teacher for a class that only teaches slapping. After being rejected, a kid at the center informs Marshall about the existence of the so-called \"Slap of a Million Exploding Suns\", and that he needs to visit three masters to teach him the three virtues of \"slapistry\" - Speed, Strength, and Accuracy - needed to learn the slap'), ({'episode': 145, 'start_index': 1925, 'title': 'Disaster Averted'}, '. During the storm Marshall draws Lily a bath and tells her to have a little alone time. Lily says she wants Marshall to stay and they end up conceiving their baby in Barney\\'s bathroom. Barney has grown tired of his ducky tie and Lily and Marshall agree that he can take it off but he must gain an extra 3 slaps to his already existing final slap which gives Marshall 4 slaps. Marshall then gives out two slaps right then and there. Barney and Robin hook up The gang go out after the end of the hurricane and play around in the rain which leads to Marshall going boogie boarding, crashing through MacLaren\\'s windows. Robin and Barney decided to share a cab home and they reminisce about the moment after Marshall\\'s accident when they almost kissed but were interrupted when Robin\\'s dad called her. They make fun of what could have happened and ended up kissing. Continuity [ ] This episode references two bets which Barney had lost, the Slap Bet and the Ducky Tie . Marshall receives three slaps (four in total) in exchange for Barney removing the Ducky Tie, and uses two. Ted uses the phrases \"therapisted\" and \"boy scouted\"; Marshall often uses the phrase \" lawyered .\" In the beginning of the episode, it is said that \"you haven\\'t truly lived until somewhere, somebody puts a sign out because of something you did\", while showing some examples. One of those examples is a sign saying \"No motorcycles on the casino floor.\" This is a future reference to The Magician\\'s Code - Part One , where Barney rides a motorcycle inside the casino in Atlantic City where he and Marshall are stranded. He is arrested by security, but is subsequently released because there\\'s no written rule about motorcycles being forbidden - until the sign, which according to Future Ted , is still there to this day. Barney and Robin kiss at the end of the episode, this is the focal point of Tick Tick Tick .   Robin and Lily watching the news'))\n",
      "\n",
      "query: The user's question.\n",
      "User Question: How many slaps were part of slapsgiving bet?\n",
      "\n",
      "Instructions:\n",
      "\n",
      "Answer Generation:\n",
      "- Respond to the user's question using ONLY the information contained in the retrieved documents. Do not rely on outside knowledge.\n",
      "- Your response should be clear, cohesive, and detailed when necessary to fully address the query.\n",
      "- For direct or straightforward questions, avoid unnecessary details and provide a concise, to-the-point response.\n",
      "\n",
      "Use of Metadata:\n",
      "- Integrate relevant metadata from the documents to enhance the credibility and context of your answer.\n",
      "- Quote or reference the metadata where appropriate, especially when attributing key facts or important claims.\n",
      "\n",
      "Fallback:\n",
      "- If the documents do not contain enough information to answer the query, politely state that the answer is not available based on the provided documents.\n",
      "\n",
      "2024-10-16 23:33:50,577 - ReelTalk - INFO - [invoke_llm:53] - LLM response: content='According to the retrieved documents, the Slap Bet, which was introduced in episode 31 \"Slap Bet\", consisted of five slaps. This is mentioned in episode 31, where Marshall and Barney agree to a Slap Bet, with the winner getting to slap the loser five times.\\n\\nLater, in episode 97 \"Slapsgiving 2: Revenge of the Slap\", Barney agrees to give Marshall three more slaps, bringing the total number of slaps to eight.\\n\\nTherefore, based on the provided documents, the Slap Bet originally consisted of five slaps, which was later increased to eight slaps.' additional_kwargs={} response_metadata={'token_usage': {'completion_tokens': 127, 'prompt_tokens': 4402, 'total_tokens': 4529, 'completion_time': 0.405214772, 'prompt_time': 0.239360723, 'queue_time': 0.005365453999999992, 'total_time': 0.644575495}, 'model_name': 'llama3-70b-8192', 'system_fingerprint': 'fp_87cbfbbc4d', 'finish_reason': 'stop', 'logprobs': None} id='run-3d34bcc7-3781-4889-8ccf-73bee31c3820-0' usage_metadata={'input_tokens': 4402, 'output_tokens': 127, 'total_tokens': 4529}\n"
     ]
    }
   ],
   "source": [
    "from src.llm import LLM\n",
    "\n",
    "llm = LLM()\n",
    "response = llm.invoke_llm(prompt)"
   ]
  },
  {
   "cell_type": "code",
   "execution_count": 7,
   "metadata": {},
   "outputs": [
    {
     "name": "stdout",
     "output_type": "stream",
     "text": [
      "** Response **\n",
      "According to the retrieved documents, the Slap Bet, which was introduced in episode 31 \"Slap Bet\", consisted of five slaps. This is mentioned in episode 31, where Marshall and Barney agree to a Slap Bet, with the winner getting to slap the loser five times.\n",
      "\n",
      "Later, in episode 97 \"Slapsgiving 2: Revenge of the Slap\", Barney agrees to give Marshall three more slaps, bringing the total number of slaps to eight.\n",
      "\n",
      "Therefore, based on the provided documents, the Slap Bet originally consisted of five slaps, which was later increased to eight slaps.\n"
     ]
    }
   ],
   "source": [
    "print(\"** Response **\")\n",
    "print(response.content)"
   ]
  }
 ],
 "metadata": {
  "kernelspec": {
   "display_name": "reel-talk",
   "language": "python",
   "name": "python3"
  },
  "language_info": {
   "codemirror_mode": {
    "name": "ipython",
    "version": 3
   },
   "file_extension": ".py",
   "mimetype": "text/x-python",
   "name": "python",
   "nbconvert_exporter": "python",
   "pygments_lexer": "ipython3",
   "version": "3.12.0"
  }
 },
 "nbformat": 4,
 "nbformat_minor": 2
}
