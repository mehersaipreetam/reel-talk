{
 "cells": [
  {
   "cell_type": "code",
   "execution_count": 2,
   "metadata": {},
   "outputs": [],
   "source": [
    "# !pip install requests beautifulsoup4 pandas\n",
    "# #Successfully installed beautifulsoup4-4.12.3 certifi-2024.8.30 charset-normalizer-3.3.2 idna-3.10 numpy-2.1.1 pandas-2.2.3 pytz-2024.2 requests-2.32.3 soupsieve-2.6 tzdata-2024.2 urllib3-2.2.3"
   ]
  },
  {
   "cell_type": "code",
   "execution_count": 10,
   "metadata": {},
   "outputs": [],
   "source": [
    "import requests\n",
    "from bs4 import BeautifulSoup\n",
    "\n",
    "# URL of the Wikipedia page for How I Met Your Mother Season 1\n",
    "url = \"https://en.wikipedia.org/wiki/How_I_Met_Your_Mother_season_1\"\n",
    "\n",
    "# Fetch the page content\n",
    "response = requests.get(url)\n",
    "soup = BeautifulSoup(response.content, 'html.parser')\n",
    "\n",
    "# # Find the table containing the episodes\n",
    "# episode_table = soup.find('table', class_='wikitable plainrowheaders')\n",
    "# episode_table\n",
    "# # Extract episode titles and summaries\n",
    "# for row in episode_table.find_all('tr')[1:]:  # Skips header row\n",
    "#     episode_title = row.find('td').get_text(strip=True)\n",
    "#     episode_summary = row.find_next('td').find_next('td').get_text(strip=True)\n",
    "#     print(f\"Title: {episode_title}\")\n",
    "#     print(f\"Summary: {episode_summary}\\n\")\n"
   ]
  },
  {
   "cell_type": "code",
   "execution_count": null,
   "metadata": {},
   "outputs": [],
   "source": []
  }
 ],
 "metadata": {
  "kernelspec": {
   "display_name": "reel-talk",
   "language": "python",
   "name": "python3"
  },
  "language_info": {
   "codemirror_mode": {
    "name": "ipython",
    "version": 3
   },
   "file_extension": ".py",
   "mimetype": "text/x-python",
   "name": "python",
   "nbconvert_exporter": "python",
   "pygments_lexer": "ipython3",
   "version": "3.12.0"
  }
 },
 "nbformat": 4,
 "nbformat_minor": 2
}
