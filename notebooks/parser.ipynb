{
 "cells": [
  {
   "cell_type": "code",
   "execution_count": 1,
   "metadata": {},
   "outputs": [],
   "source": [
    "from util.parser_util import get_all_episodes_df\n",
    "from util.data_util import save_content_to_path\n",
    "import pandas as pd"
   ]
  },
  {
   "cell_type": "code",
   "execution_count": 2,
   "metadata": {},
   "outputs": [],
   "source": [
    "url_wikipedia = \"https://en.wikipedia.org/wiki/How_I_Met_Your_Mother_episodes\""
   ]
  },
  {
   "cell_type": "code",
   "execution_count": 3,
   "metadata": {},
   "outputs": [],
   "source": [
    "url_fandom = 'https://how-i-met-your-mother.fandom.com/wiki/Episode_Guide'"
   ]
  },
  {
   "cell_type": "code",
   "execution_count": 4,
   "metadata": {},
   "outputs": [
    {
     "name": "stderr",
     "output_type": "stream",
     "text": [
      "Extracting individual episode data from links: 100%|██████████| 238/238 [05:58<00:00,  1.51s/it] \n"
     ]
    }
   ],
   "source": [
    "episode_df = get_all_episodes_df(url_fandom)"
   ]
  },
  {
   "cell_type": "code",
   "execution_count": 5,
   "metadata": {},
   "outputs": [
    {
     "data": {
      "text/html": [
       "<div>\n",
       "<style scoped>\n",
       "    .dataframe tbody tr th:only-of-type {\n",
       "        vertical-align: middle;\n",
       "    }\n",
       "\n",
       "    .dataframe tbody tr th {\n",
       "        vertical-align: top;\n",
       "    }\n",
       "\n",
       "    .dataframe thead th {\n",
       "        text-align: right;\n",
       "    }\n",
       "</style>\n",
       "<table border=\"1\" class=\"dataframe\">\n",
       "  <thead>\n",
       "    <tr style=\"text-align: right;\">\n",
       "      <th></th>\n",
       "      <th>title</th>\n",
       "      <th>content</th>\n",
       "    </tr>\n",
       "  </thead>\n",
       "  <tbody>\n",
       "    <tr>\n",
       "      <th>0</th>\n",
       "      <td>Pilot</td>\n",
       "      <td>Images (13) Future Ted begins telling his two ...</td>\n",
       "    </tr>\n",
       "    <tr>\n",
       "      <th>1</th>\n",
       "      <td>Purple Giraffe</td>\n",
       "      <td>Images (12) Ted continues to try and impress R...</td>\n",
       "    </tr>\n",
       "    <tr>\n",
       "      <th>2</th>\n",
       "      <td>Sweet Taste of Liberty</td>\n",
       "      <td>Images (10) Barney convinces Ted to pick up g...</td>\n",
       "    </tr>\n",
       "    <tr>\n",
       "      <th>3</th>\n",
       "      <td>Return of the Shirt</td>\n",
       "      <td>Images (8) After reuniting with an old shirt, ...</td>\n",
       "    </tr>\n",
       "    <tr>\n",
       "      <th>4</th>\n",
       "      <td>Okay Awesome</td>\n",
       "      <td>Images (6) Ted and Barney join Robin at a nigh...</td>\n",
       "    </tr>\n",
       "    <tr>\n",
       "      <th>...</th>\n",
       "      <td>...</td>\n",
       "      <td>...</td>\n",
       "    </tr>\n",
       "    <tr>\n",
       "      <th>233</th>\n",
       "      <td>The Jersey Connection</td>\n",
       "      <td>Images (0) Ellen suspects something is up with...</td>\n",
       "    </tr>\n",
       "    <tr>\n",
       "      <th>234</th>\n",
       "      <td>Out Of Sync</td>\n",
       "      <td>Images (0) The gang go a day without their cel...</td>\n",
       "    </tr>\n",
       "    <tr>\n",
       "      <th>235</th>\n",
       "      <td>Parent Trap</td>\n",
       "      <td>Images (0) Sophie tries to Parent Trap her par...</td>\n",
       "    </tr>\n",
       "    <tr>\n",
       "      <th>236</th>\n",
       "      <td>Shady Parker</td>\n",
       "      <td>Images (0) Jesse tricks the gang into helping...</td>\n",
       "    </tr>\n",
       "    <tr>\n",
       "      <th>237</th>\n",
       "      <td>Okay Fine, It's A Hurricane</td>\n",
       "      <td>Images (0) Everyone heads to Pemberton's to we...</td>\n",
       "    </tr>\n",
       "  </tbody>\n",
       "</table>\n",
       "<p>238 rows × 2 columns</p>\n",
       "</div>"
      ],
      "text/plain": [
       "                           title  \\\n",
       "0                          Pilot   \n",
       "1                 Purple Giraffe   \n",
       "2         Sweet Taste of Liberty   \n",
       "3            Return of the Shirt   \n",
       "4                   Okay Awesome   \n",
       "..                           ...   \n",
       "233        The Jersey Connection   \n",
       "234                  Out Of Sync   \n",
       "235                  Parent Trap   \n",
       "236                 Shady Parker   \n",
       "237  Okay Fine, It's A Hurricane   \n",
       "\n",
       "                                               content  \n",
       "0    Images (13) Future Ted begins telling his two ...  \n",
       "1    Images (12) Ted continues to try and impress R...  \n",
       "2     Images (10) Barney convinces Ted to pick up g...  \n",
       "3    Images (8) After reuniting with an old shirt, ...  \n",
       "4    Images (6) Ted and Barney join Robin at a nigh...  \n",
       "..                                                 ...  \n",
       "233  Images (0) Ellen suspects something is up with...  \n",
       "234  Images (0) The gang go a day without their cel...  \n",
       "235  Images (0) Sophie tries to Parent Trap her par...  \n",
       "236   Images (0) Jesse tricks the gang into helping...  \n",
       "237  Images (0) Everyone heads to Pemberton's to we...  \n",
       "\n",
       "[238 rows x 2 columns]"
      ]
     },
     "execution_count": 5,
     "metadata": {},
     "output_type": "execute_result"
    }
   ],
   "source": [
    "episode_df"
   ]
  },
  {
   "cell_type": "code",
   "execution_count": 6,
   "metadata": {},
   "outputs": [],
   "source": [
    "save_content_to_path(episode_df, \"../data/episode_df.csv\")"
   ]
  },
  {
   "cell_type": "code",
   "execution_count": 8,
   "metadata": {},
   "outputs": [],
   "source": [
    "episode_df = pd.read_csv(\"../data/episode_df.csv\")"
   ]
  },
  {
   "cell_type": "code",
   "execution_count": 9,
   "metadata": {},
   "outputs": [
    {
     "data": {
      "text/html": [
       "<div>\n",
       "<style scoped>\n",
       "    .dataframe tbody tr th:only-of-type {\n",
       "        vertical-align: middle;\n",
       "    }\n",
       "\n",
       "    .dataframe tbody tr th {\n",
       "        vertical-align: top;\n",
       "    }\n",
       "\n",
       "    .dataframe thead th {\n",
       "        text-align: right;\n",
       "    }\n",
       "</style>\n",
       "<table border=\"1\" class=\"dataframe\">\n",
       "  <thead>\n",
       "    <tr style=\"text-align: right;\">\n",
       "      <th></th>\n",
       "      <th>title</th>\n",
       "      <th>content</th>\n",
       "    </tr>\n",
       "  </thead>\n",
       "  <tbody>\n",
       "    <tr>\n",
       "      <th>0</th>\n",
       "      <td>Pilot</td>\n",
       "      <td>Images (13) Future Ted begins telling his two ...</td>\n",
       "    </tr>\n",
       "    <tr>\n",
       "      <th>1</th>\n",
       "      <td>Purple Giraffe</td>\n",
       "      <td>Images (12) Ted continues to try and impress R...</td>\n",
       "    </tr>\n",
       "    <tr>\n",
       "      <th>2</th>\n",
       "      <td>Sweet Taste of Liberty</td>\n",
       "      <td>Images (10) Barney convinces Ted to pick up g...</td>\n",
       "    </tr>\n",
       "    <tr>\n",
       "      <th>3</th>\n",
       "      <td>Return of the Shirt</td>\n",
       "      <td>Images (8) After reuniting with an old shirt, ...</td>\n",
       "    </tr>\n",
       "    <tr>\n",
       "      <th>4</th>\n",
       "      <td>Okay Awesome</td>\n",
       "      <td>Images (6) Ted and Barney join Robin at a nigh...</td>\n",
       "    </tr>\n",
       "    <tr>\n",
       "      <th>...</th>\n",
       "      <td>...</td>\n",
       "      <td>...</td>\n",
       "    </tr>\n",
       "    <tr>\n",
       "      <th>233</th>\n",
       "      <td>The Jersey Connection</td>\n",
       "      <td>Images (0) Ellen suspects something is up with...</td>\n",
       "    </tr>\n",
       "    <tr>\n",
       "      <th>234</th>\n",
       "      <td>Out Of Sync</td>\n",
       "      <td>Images (0) The gang go a day without their cel...</td>\n",
       "    </tr>\n",
       "    <tr>\n",
       "      <th>235</th>\n",
       "      <td>Parent Trap</td>\n",
       "      <td>Images (0) Sophie tries to Parent Trap her par...</td>\n",
       "    </tr>\n",
       "    <tr>\n",
       "      <th>236</th>\n",
       "      <td>Shady Parker</td>\n",
       "      <td>Images (0) Jesse tricks the gang into helping...</td>\n",
       "    </tr>\n",
       "    <tr>\n",
       "      <th>237</th>\n",
       "      <td>Okay Fine, It's A Hurricane</td>\n",
       "      <td>Images (0) Everyone heads to Pemberton's to we...</td>\n",
       "    </tr>\n",
       "  </tbody>\n",
       "</table>\n",
       "<p>238 rows × 2 columns</p>\n",
       "</div>"
      ],
      "text/plain": [
       "                           title  \\\n",
       "0                          Pilot   \n",
       "1                 Purple Giraffe   \n",
       "2         Sweet Taste of Liberty   \n",
       "3            Return of the Shirt   \n",
       "4                   Okay Awesome   \n",
       "..                           ...   \n",
       "233        The Jersey Connection   \n",
       "234                  Out Of Sync   \n",
       "235                  Parent Trap   \n",
       "236                 Shady Parker   \n",
       "237  Okay Fine, It's A Hurricane   \n",
       "\n",
       "                                               content  \n",
       "0    Images (13) Future Ted begins telling his two ...  \n",
       "1    Images (12) Ted continues to try and impress R...  \n",
       "2     Images (10) Barney convinces Ted to pick up g...  \n",
       "3    Images (8) After reuniting with an old shirt, ...  \n",
       "4    Images (6) Ted and Barney join Robin at a nigh...  \n",
       "..                                                 ...  \n",
       "233  Images (0) Ellen suspects something is up with...  \n",
       "234  Images (0) The gang go a day without their cel...  \n",
       "235  Images (0) Sophie tries to Parent Trap her par...  \n",
       "236   Images (0) Jesse tricks the gang into helping...  \n",
       "237  Images (0) Everyone heads to Pemberton's to we...  \n",
       "\n",
       "[238 rows x 2 columns]"
      ]
     },
     "execution_count": 9,
     "metadata": {},
     "output_type": "execute_result"
    }
   ],
   "source": [
    "episode_df"
   ]
  }
 ],
 "metadata": {
  "kernelspec": {
   "display_name": "reel-talk",
   "language": "python",
   "name": "python3"
  },
  "language_info": {
   "codemirror_mode": {
    "name": "ipython",
    "version": 3
   },
   "file_extension": ".py",
   "mimetype": "text/x-python",
   "name": "python",
   "nbconvert_exporter": "python",
   "pygments_lexer": "ipython3",
   "version": "3.12.0"
  }
 },
 "nbformat": 4,
 "nbformat_minor": 2
}
